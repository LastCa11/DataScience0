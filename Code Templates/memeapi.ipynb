{
 "cells": [
  {
   "cell_type": "code",
   "execution_count": 2,
   "id": "9a49139c",
   "metadata": {},
   "outputs": [
    {
     "name": "stdout",
     "output_type": "stream",
     "text": [
      "First Meme:\n",
      "ID: 129242436\n",
      "Name: Change My Mind\n",
      "URL: https://i.imgflip.com/24y43o.jpg\n"
     ]
    }
   ],
   "source": [
    "import requests\n",
    "\n",
    "# Define the URL for the Imgflip API endpoint\n",
    "api_url = \"https://api.imgflip.com/get_memes\"\n",
    "\n",
    "try:\n",
    "    # Send a GET request to the Imgflip API\n",
    "    response = requests.get(api_url)\n",
    "    response.raise_for_status()\n",
    "\n",
    "    # Parse the JSON response\n",
    "    data = response.json()\n",
    "\n",
    "    # Check if data contains memes\n",
    "    if 'data' in data and 'memes' in data['data']:\n",
    "        memes = data['data']['memes']\n",
    "\n",
    "        # Check if there are any memes in the list\n",
    "        if memes:\n",
    "            # Get the first meme\n",
    "            first_meme = memes[7]\n",
    "\n",
    "            # Display the first meme's data\n",
    "            print(\"First Meme:\")\n",
    "            print(f\"ID: {first_meme['id']}\")\n",
    "            print(f\"Name: {first_meme['name']}\")\n",
    "            print(f\"URL: {first_meme['url']}\")\n",
    "        else:\n",
    "            print(\"No memes found in the response.\")\n",
    "    else:\n",
    "        print(\"Unexpected response format from the Imgflip API.\")\n",
    "\n",
    "except requests.exceptions.RequestException as e:\n",
    "    print(f\"Error: {e}\")\n"
   ]
  },
  {
   "cell_type": "code",
   "execution_count": null,
   "id": "df150336",
   "metadata": {},
   "outputs": [],
   "source": []
  }
 ],
 "metadata": {
  "kernelspec": {
   "display_name": "Python 3 (ipykernel)",
   "language": "python",
   "name": "python3"
  },
  "language_info": {
   "codemirror_mode": {
    "name": "ipython",
    "version": 3
   },
   "file_extension": ".py",
   "mimetype": "text/x-python",
   "name": "python",
   "nbconvert_exporter": "python",
   "pygments_lexer": "ipython3",
   "version": "3.9.13"
  }
 },
 "nbformat": 4,
 "nbformat_minor": 5
}
