{
 "cells": [
  {
   "cell_type": "code",
   "execution_count": 1,
   "id": "ebd17938",
   "metadata": {},
   "outputs": [
    {
     "name": "stdout",
     "output_type": "stream",
     "text": [
      "Attribute Error: 'NoneType' object has no attribute 'find_all'\n"
     ]
    }
   ],
   "source": [
    "import requests\n",
    "from bs4 import BeautifulSoup\n",
    "\n",
    "# Define the URL of the Wikipedia article\n",
    "url = \"https://en.wikipedia.org/wiki/Toast_sandwich\"\n",
    "\n",
    "try:\n",
    "    # Send a GET request to the URL\n",
    "    response = requests.get(url)\n",
    "    response.raise_for_status()\n",
    "\n",
    "    # Parse the HTML content using BeautifulSoup\n",
    "    soup = BeautifulSoup(response.text, 'html.parser')\n",
    "\n",
    "    # Find the main article content using the <div id=\"content\" role=\"main\">\n",
    "    content = soup.find('div', id='content')\n",
    "\n",
    "    # Extract and store the text content in a variable\n",
    "    article_text = \"\"\n",
    "    for paragraph in content.find_all('p'):\n",
    "        article_text += paragraph.get_text() + '\\n'\n",
    "\n",
    "    # Print the article content\n",
    "    print(article_text)\n",
    "\n",
    "except requests.exceptions.RequestException as e:\n",
    "    print(f\"Error: {e}\")\n",
    "except AttributeError as ae:\n",
    "    print(f\"Attribute Error: {ae}\")\n"
   ]
  },
  {
   "cell_type": "code",
   "execution_count": null,
   "id": "7c2a8436",
   "metadata": {},
   "outputs": [],
   "source": []
  }
 ],
 "metadata": {
  "kernelspec": {
   "display_name": "Python 3 (ipykernel)",
   "language": "python",
   "name": "python3"
  },
  "language_info": {
   "codemirror_mode": {
    "name": "ipython",
    "version": 3
   },
   "file_extension": ".py",
   "mimetype": "text/x-python",
   "name": "python",
   "nbconvert_exporter": "python",
   "pygments_lexer": "ipython3",
   "version": "3.9.13"
  }
 },
 "nbformat": 4,
 "nbformat_minor": 5
}
