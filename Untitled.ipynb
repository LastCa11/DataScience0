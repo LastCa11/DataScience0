{
 "cells": [
  {
   "cell_type": "code",
   "execution_count": 13,
   "id": "0c07f7f0",
   "metadata": {},
   "outputs": [
    {
     "name": "stdout",
     "output_type": "stream",
     "text": [
      "Name: Blackbeard, Age: 40, Sex: M, Height: 6.4, Skull_and_Crossbones: False\n",
      "Name: Anne Bonny, Age: 24, Sex: F, Height: 5.6, Skull_and_Crossbones: True\n",
      "Name: Calico Jack, Age: 37, Sex: M, Height: 5.6, Skull_and_Crossbones: True\n",
      "Name: Cheung Po Tsai, Age: 39, Sex: M, Height: 5.3, Skull_and_Crossbones: False\n",
      "Name: Grace O'Malley, Age: 73, Sex: F, Height: 5.0, Skull_and_Crossbones: False\n",
      "Name: Mary Read, Age: 36, Sex: F, Height: 5.1, Skull_and_Crossbones: True\n",
      "Name: Sayyida al Hurra, Age: 75, Sex: F, Height: No Data, Skull_and_Crossbones: False\n",
      "Name: Ching Shih, Age: 69, Sex: F, Height: 5.3, Skull_and_Crossbones: False\n",
      "Name: Sir Fransis Drake, Age: 56, Sex: M, Height: 5.5, Skull_and_Crossbones: False\n",
      "Name: Jean Lafitte, Age: 46, Sex: M, Height: 6.2, Skull_and_Crossbones: False\n"
     ]
    }
   ],
   "source": [
    "data = [\n",
    "{\"Name\": \"Blackbeard\", \"Age\": \"40\", \"Sex\": \"M\", \"Height\": \"6.4\", \"Skull_and_Crossbones\": \"False\"},\n",
    "{\"Name\": \"Anne Bonny\", \"Age\": \"24\", \"Sex\": \"F\", \"Height\": \"5.6\", \"Skull_and_Crossbones\": \"True\"},\n",
    "{\"Name\": \"Calico Jack\", \"Age\": \"37\", \"Sex\": \"M\", \"Height\": \"5.6\", \"Skull_and_Crossbones\": \"True\"},\n",
    "{\"Name\": \"Cheung Po Tsai\", \"Age\": \"39\", \"Sex\": \"M\", \"Height\": \"5.3\", \"Skull_and_Crossbones\": \"False\"},\n",
    "{\"Name\": \"Grace O'Malley\", \"Age\": \"73\", \"Sex\": \"F\", \"Height\": \"5.0\", \"Skull_and_Crossbones\": \"False\"},\n",
    "{\"Name\": \"Mary Read\", \"Age\": \"36\", \"Sex\": \"F\", \"Height\": \"5.1\", \"Skull_and_Crossbones\": \"True\"},\n",
    "{\"Name\": \"Sayyida al Hurra\", \"Age\": \"75\", \"Sex\": \"F\", \"Height\": \"No Data\", \"Skull_and_Crossbones\": \"False\"},\n",
    "{\"Name\": \"Ching Shih\", \"Age\": \"69\", \"Sex\": \"F\", \"Height\": \"5.3\", \"Skull_and_Crossbones\": \"False\"},\n",
    "{\"Name\": \"Sir Fransis Drake\", \"Age\": \"56\", \"Sex\": \"M\", \"Height\": \"5.5\", \"Skull_and_Crossbones\": \"False\"},\n",
    "{\"Name\": \"Jean Lafitte\", \"Age\": \"46\", \"Sex\": \"M\", \"Height\": \"6.2\", \"Skull_and_Crossbones\": \"False\"}\n",
    "]\n",
    "\n",
    "for person in data:\n",
    "    print(f\"Name: {person['Name']}, Age: {person['Age']}, Sex: {person['Sex']}, Height: {person['Height']}, Skull_and_Crossbones: {person['Skull_and_Crossbones']}\")"
   ]
  },
  {
   "cell_type": "code",
   "execution_count": 17,
   "id": "5a12ee91",
   "metadata": {},
   "outputs": [
    {
     "name": "stdout",
     "output_type": "stream",
     "text": [
      "Name: Blackbeard, Age: 40, Sex: M, Height: 6.4, Skull_and_Crossbones: False\n"
     ]
    }
   ],
   "source": [
    "data = [\n",
    "{\"Name\": \"Blackbeard\", \"Age\": \"40\", \"Sex\": \"M\", \"Height\": \"6.4\", \"Skull_and_Crossbones\": \"False\"},\n",
    "{\"Name\": \"Anne Bonny\", \"Age\": \"24\", \"Sex\": \"F\", \"Height\": \"5.6\", \"Skull_and_Crossbones\": \"True\"},\n",
    "{\"Name\": \"Calico Jack\", \"Age\": \"37\", \"Sex\": \"M\", \"Height\": \"5.6\", \"Skull_and_Crossbones\": \"True\"},\n",
    "{\"Name\": \"Cheung Po Tsai\", \"Age\": \"39\", \"Sex\": \"M\", \"Height\": \"5.3\", \"Skull_and_Crossbones\": \"False\"},\n",
    "{\"Name\": \"Grace O'Malley\", \"Age\": \"73\", \"Sex\": \"F\", \"Height\": \"5.0\", \"Skull_and_Crossbones\": \"False\"},\n",
    "{\"Name\": \"Mary Read\", \"Age\": \"36\", \"Sex\": \"F\", \"Height\": \"5.1\", \"Skull_and_Crossbones\": \"True\"},\n",
    "{\"Name\": \"Sayyida al Hurra\", \"Age\": \"75\", \"Sex\": \"F\", \"Height\": \"No Data\", \"Skull_and_Crossbones\": \"False\"},\n",
    "{\"Name\": \"Ching Shih\", \"Age\": \"69\", \"Sex\": \"F\", \"Height\": \"5.3\", \"Skull_and_Crossbones\": \"False\"},\n",
    "{\"Name\": \"Sir Fransis Drake\", \"Age\": \"56\", \"Sex\": \"M\", \"Height\": \"5.5\", \"Skull_and_Crossbones\": \"False\"},\n",
    "{\"Name\": \"Jean Lafitte\", \"Age\": \"46\", \"Sex\": \"M\", \"Height\": \"6.2\", \"Skull_and_Crossbones\": \"False\"}\n",
    "]\n",
    "\n",
    "blackbeard_data = next(person for person in data if person[\"Name\"] == \"Blackbeard\")\n",
    "print(f\"Name: {person['Name']}, Age: {person['Age']}, Sex: {person['Sex']}, Height: {person['Height']}, Skull_and_Crossbones: {person['Skull_and_Crossbones']}\")"
   ]
  },
  {
   "cell_type": "code",
   "execution_count": 16,
   "id": "0d0b278d",
   "metadata": {},
   "outputs": [
    {
     "name": "stdout",
     "output_type": "stream",
     "text": [
      "Skull_and_Crossbones: False\n",
      "Skull_and_Crossbones: False\n",
      "Skull_and_Crossbones: False\n",
      "Skull_and_Crossbones: False\n",
      "Skull_and_Crossbones: True\n",
      "Skull_and_Crossbones: False\n",
      "Skull_and_Crossbones: False\n",
      "Skull_and_Crossbones: True\n",
      "Skull_and_Crossbones: True\n",
      "Skull_and_Crossbones: False\n"
     ]
    }
   ],
   "source": [
    "data = [\n",
    "{\"Name\": \"Blackbeard\", \"Age\": \"40\", \"Sex\": \"M\", \"Height\": \"6.4\", \"Skull_and_Crossbones\": \"False\"},\n",
    "{\"Name\": \"Anne Bonny\", \"Age\": \"24\", \"Sex\": \"F\", \"Height\": \"5.6\", \"Skull_and_Crossbones\": \"True\"},\n",
    "{\"Name\": \"Calico Jack\", \"Age\": \"37\", \"Sex\": \"M\", \"Height\": \"5.6\", \"Skull_and_Crossbones\": \"True\"},\n",
    "{\"Name\": \"Cheung Po Tsai\", \"Age\": \"39\", \"Sex\": \"M\", \"Height\": \"5.3\", \"Skull_and_Crossbones\": \"False\"},\n",
    "{\"Name\": \"Grace O'Malley\", \"Age\": \"73\", \"Sex\": \"F\", \"Height\": \"5.0\", \"Skull_and_Crossbones\": \"False\"},\n",
    "{\"Name\": \"Mary Read\", \"Age\": \"36\", \"Sex\": \"F\", \"Height\": \"5.1\", \"Skull_and_Crossbones\": \"True\"},\n",
    "{\"Name\": \"Sayyida al Hurra\", \"Age\": \"75\", \"Sex\": \"F\", \"Height\": \"No Data\", \"Skull_and_Crossbones\": \"False\"},\n",
    "{\"Name\": \"Ching Shih\", \"Age\": \"69\", \"Sex\": \"F\", \"Height\": \"5.3\", \"Skull_and_Crossbones\": \"False\"},\n",
    "{\"Name\": \"Sir Fransis Drake\", \"Age\": \"56\", \"Sex\": \"M\", \"Height\": \"5.5\", \"Skull_and_Crossbones\": \"False\"},\n",
    "{\"Name\": \"Jean Lafitte\", \"Age\": \"46\", \"Sex\": \"M\", \"Height\": \"6.2\", \"Skull_and_Crossbones\": \"False\"}\n",
    "]\n",
    "\n",
    "data.reverse()\n",
    "\n",
    "\n",
    "for person in data:\n",
    "    print(f\"Skull_and_Crossbones: {person['Skull_and_Crossbones']}\")"
   ]
  },
  {
   "cell_type": "code",
   "execution_count": 18,
   "id": "2560c1d3",
   "metadata": {},
   "outputs": [
    {
     "name": "stdout",
     "output_type": "stream",
     "text": [
      "Name: Blackbeard, Age: 40, Skull_and_Crossbones: False\n",
      "Name: Anne Bonny, Age: 24, Skull_and_Crossbones: True\n",
      "Name: Calico Jack, Age: 37, Skull_and_Crossbones: True\n",
      "Name: Cheung Po Tsai, Age: 39, Skull_and_Crossbones: False\n",
      "Name: Grace O'Malley, Age: 73, Skull_and_Crossbones: False\n",
      "Name: Mary Read, Age: 36, Skull_and_Crossbones: True\n",
      "Name: Sayyida al Hurra, Age: 75, Skull_and_Crossbones: False\n",
      "Name: Ching Shih, Age: 69, Skull_and_Crossbones: False\n",
      "Name: Sir Fransis Drake, Age: 56, Skull_and_Crossbones: False\n",
      "Name: Jean Lafitte, Age: 46, Skull_and_Crossbones: False\n"
     ]
    }
   ],
   "source": [
    "data = [\n",
    "{\"Name\": \"Blackbeard\", \"Age\": \"40\", \"Sex\": \"M\", \"Height\": \"6.4\", \"Skull_and_Crossbones\": \"False\"},\n",
    "{\"Name\": \"Anne Bonny\", \"Age\": \"24\", \"Sex\": \"F\", \"Height\": \"5.6\", \"Skull_and_Crossbones\": \"True\"},\n",
    "{\"Name\": \"Calico Jack\", \"Age\": \"37\", \"Sex\": \"M\", \"Height\": \"5.6\", \"Skull_and_Crossbones\": \"True\"},\n",
    "{\"Name\": \"Cheung Po Tsai\", \"Age\": \"39\", \"Sex\": \"M\", \"Height\": \"5.3\", \"Skull_and_Crossbones\": \"False\"},\n",
    "{\"Name\": \"Grace O'Malley\", \"Age\": \"73\", \"Sex\": \"F\", \"Height\": \"5.0\", \"Skull_and_Crossbones\": \"False\"},\n",
    "{\"Name\": \"Mary Read\", \"Age\": \"36\", \"Sex\": \"F\", \"Height\": \"5.1\", \"Skull_and_Crossbones\": \"True\"},\n",
    "{\"Name\": \"Sayyida al Hurra\", \"Age\": \"75\", \"Sex\": \"F\", \"Height\": \"No Data\", \"Skull_and_Crossbones\": \"False\"},\n",
    "{\"Name\": \"Ching Shih\", \"Age\": \"69\", \"Sex\": \"F\", \"Height\": \"5.3\", \"Skull_and_Crossbones\": \"False\"},\n",
    "{\"Name\": \"Sir Fransis Drake\", \"Age\": \"56\", \"Sex\": \"M\", \"Height\": \"5.5\", \"Skull_and_Crossbones\": \"False\"},\n",
    "{\"Name\": \"Jean Lafitte\", \"Age\": \"46\", \"Sex\": \"M\", \"Height\": \"6.2\", \"Skull_and_Crossbones\": \"False\"}\n",
    "]\n",
    "\n",
    "for person in data:\n",
    "    print(f\"Name: {person['Name']}, Age: {person['Age']}, Skull_and_Crossbones: {person['Skull_and_Crossbones']}\")"
   ]
  },
  {
   "cell_type": "code",
   "execution_count": null,
   "id": "85e89da2",
   "metadata": {},
   "outputs": [],
   "source": []
  }
 ],
 "metadata": {
  "kernelspec": {
   "display_name": "Python 3 (ipykernel)",
   "language": "python",
   "name": "python3"
  },
  "language_info": {
   "codemirror_mode": {
    "name": "ipython",
    "version": 3
   },
   "file_extension": ".py",
   "mimetype": "text/x-python",
   "name": "python",
   "nbconvert_exporter": "python",
   "pygments_lexer": "ipython3",
   "version": "3.11.4"
  }
 },
 "nbformat": 4,
 "nbformat_minor": 5
}
