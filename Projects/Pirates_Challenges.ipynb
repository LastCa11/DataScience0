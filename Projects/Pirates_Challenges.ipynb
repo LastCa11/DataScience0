{
 "cells": [
  {
   "cell_type": "code",
   "execution_count": 1,
   "metadata": {
    "id": "bIBt_FTuvB7O"
   },
   "outputs": [],
   "source": [
    "pirates = {\n",
    "    \"Pirate\":[\"Blackbeard\", \"Anne Bonny\", \"Calico Jack\", \"Cheung Po Tsai\", \"Grace O'Malley\", \"Mary Read\", \"Sayyida al Hurra\", \"Ching Shih\", \"Sir Francis Drake\", \"Jean Lafittte\"],\n",
    "    \"Sex\":[\"M\", \"F\", \"M\", \"M\", \"F\", \"F\", \"F\", \"F\", \"M\", \"M\"],\n",
    "    \"Age at Death\":[40, 24, 37, 39, 73, 36, 75, 69, 56, 46],\n",
    "    \"Height\":[6.4, 5.6, 5.6, 5.3, 5.0, 5.1, \"\", 5.3, 5.5, 6.2],\n",
    "    \"Skull and Crossbones\":[False, True, True, False, False, True, False, False, False, False]\n",
    "}"
   ]
  },
  {
   "cell_type": "code",
   "execution_count": 4,
   "metadata": {},
   "outputs": [
    {
     "name": "stdout",
     "output_type": "stream",
     "text": [
      "('Blackbeard', 'M', 40, 6.4, False)\n",
      "('Anne Bonny', 'F', 24, 5.6, True)\n",
      "('Calico Jack', 'M', 37, 5.6, True)\n",
      "('Cheung Po Tsai', 'M', 39, 5.3, False)\n",
      "(\"Grace O'Malley\", 'F', 73, 5.0, False)\n",
      "('Mary Read', 'F', 36, 5.1, True)\n",
      "('Sayyida al Hurra', 'F', 75, '', False)\n",
      "('Ching Shih', 'F', 69, 5.3, False)\n",
      "('Sir Francis Drake', 'M', 56, 5.5, False)\n",
      "('Jean Lafittte', 'M', 46, 6.2, False)\n"
     ]
    }
   ],
   "source": [
    "\n",
    "pirates = {\n",
    "    \"Pirate\": [\"Blackbeard\", \"Anne Bonny\", \"Calico Jack\", \"Cheung Po Tsai\", \"Grace O'Malley\", \"Mary Read\", \"Sayyida al Hurra\", \"Ching Shih\", \"Sir Francis Drake\", \"Jean Lafittte\"],\n",
    "    \"Sex\": [\"M\", \"F\", \"M\", \"M\", \"F\", \"F\", \"F\", \"F\", \"M\", \"M\"],\n",
    "    \"Age at Death\": [40, 24, 37, 39, 73, 36, 75, 69, 56, 46],\n",
    "    \"Height\": [6.4, 5.6, 5.6, 5.3, 5.0, 5.1, \"\", 5.3, 5.5, 6.2],\n",
    "    \"Skull and Crossbones\": [False, True, True, False, False, True, False, False, False, False]\n",
    "}\n",
    "\n",
    "data_list = list(zip(pirates[\"Pirate\"], pirates[\"Sex\"], pirates[\"Age at Death\"], pirates[\"Height\"], pirates[\"Skull and Crossbones\"]))\n",
    "\n",
    "for item in data_list:\n",
    "    print(item)"
   ]
  },
  {
   "cell_type": "code",
   "execution_count": 5,
   "metadata": {},
   "outputs": [
    {
     "name": "stdout",
     "output_type": "stream",
     "text": [
      "['Blackbeard', 'M', 40, 6.4, False]\n"
     ]
    }
   ],
   "source": [
    "pirates = {\n",
    "    \"Pirate\": [\"Blackbeard\", \"Anne Bonny\", \"Calico Jack\", \"Cheung Po Tsai\", \"Grace O'Malley\", \"Mary Read\", \"Sayyida al Hurra\", \"Ching Shih\", \"Sir Francis Drake\", \"Jean Lafittte\"],\n",
    "    \"Sex\": [\"M\", \"F\", \"M\", \"M\", \"F\", \"F\", \"F\", \"F\", \"M\", \"M\"],\n",
    "    \"Age at Death\": [40, 24, 37, 39, 73, 36, 75, 69, 56, 46],\n",
    "    \"Height\": [6.4, 5.6, 5.6, 5.3, 5.0, 5.1, \"\", 5.3, 5.5, 6.2],\n",
    "    \"Skull and Crossbones\": [False, True, True, False, False, True, False, False, False, False]\n",
    "}\n",
    "\n",
    "pirates_list = [data[0] for data in pirates.values()]\n",
    "print(pirates_list)"
   ]
  },
  {
   "cell_type": "code",
   "execution_count": 14,
   "metadata": {},
   "outputs": [
    {
     "name": "stdout",
     "output_type": "stream",
     "text": [
      "[False, False, False, False, True, False, False, True, True, False]\n"
     ]
    }
   ],
   "source": [
    "pirates = {\n",
    "    \"Pirate\": [\"Blackbeard\", \"Anne Bonny\", \"Calico Jack\", \"Cheung Po Tsai\", \"Grace O'Malley\", \"Mary Read\", \"Sayyida al Hurra\", \"Ching Shih\", \"Sir Francis Drake\", \"Jean Lafittte\"],\n",
    "    \"Sex\": [\"M\", \"F\", \"M\", \"M\", \"F\", \"F\", \"F\", \"F\", \"M\", \"M\"],\n",
    "    \"Age at Death\": [40, 24, 37, 39, 73, 36, 75, 69, 56, 46],\n",
    "    \"Height\": [6.4, 5.6, 5.6, 5.3, 5.0, 5.1, \"\", 5.3, 5.5, 6.2],\n",
    "    \"Skull and Crossbones\": [False, True, True, False, False, True, False, False, False, False]\n",
    "}\n",
    "\n",
    "reverse_skull_and_crossbones = pirates[\"Skull and Crossbones\"][::-1]\n",
    "print(reverse_skull_and_crossbones)"
   ]
  },
  {
   "cell_type": "code",
   "execution_count": 18,
   "metadata": {},
   "outputs": [
    {
     "name": "stdout",
     "output_type": "stream",
     "text": [
      "('Blackbeard', 40, False)\n",
      "('Anne Bonny', 24, True)\n",
      "('Calico Jack', 37, True)\n",
      "('Cheung Po Tsai', 39, False)\n",
      "(\"Grace O'Malley\", 73, False)\n",
      "('Mary Read', 36, True)\n",
      "('Sayyida al Hurra', 75, False)\n",
      "('Ching Shih', 69, False)\n",
      "('Sir Francis Drake', 56, False)\n",
      "('Jean Lafittte', 46, False)\n"
     ]
    }
   ],
   "source": [
    "pirates = {\n",
    "    \"Pirate\": [\"Blackbeard\", \"Anne Bonny\", \"Calico Jack\", \"Cheung Po Tsai\", \"Grace O'Malley\", \"Mary Read\", \"Sayyida al Hurra\", \"Ching Shih\", \"Sir Francis Drake\", \"Jean Lafittte\"],\n",
    "    \"Sex\": [\"M\", \"F\", \"M\", \"M\", \"F\", \"F\", \"F\", \"F\", \"M\", \"M\"],\n",
    "    \"Age at Death\": [40, 24, 37, 39, 73, 36, 75, 69, 56, 46],\n",
    "    \"Height\": [6.4, 5.6, 5.6, 5.3, 5.0, 5.1, \"\", 5.3, 5.5, 6.2],\n",
    "    \"Skull and Crossbones\": [False, True, True, False, False, True, False, False, False, False]\n",
    "}\n",
    "\n",
    "data_list = list(zip(pirates[\"Pirate\"], pirates[\"Age at Death\"], pirates[\"Skull and Crossbones\"]))\n",
    "\n",
    "for item in data_list:\n",
    "    print(item)"
   ]
  },
  {
   "cell_type": "code",
   "execution_count": 19,
   "metadata": {},
   "outputs": [
    {
     "name": "stdout",
     "output_type": "stream",
     "text": [
      "Number of 'Skull and Crossbones' data points that are True: 3\n"
     ]
    }
   ],
   "source": [
    "pirates = {\n",
    "    \"Pirate\": [\"Blackbeard\", \"Anne Bonny\", \"Calico Jack\", \"Cheung Po Tsai\", \"Grace O'Malley\", \"Mary Read\", \"Sayyida al Hurra\", \"Ching Shih\", \"Sir Francis Drake\", \"Jean Lafittte\"],\n",
    "    \"Sex\": [\"M\", \"F\", \"M\", \"M\", \"F\", \"F\", \"F\", \"F\", \"M\", \"M\"],\n",
    "    \"Age at Death\": [40, 24, 37, 39, 73, 36, 75, 69, 56, 46],\n",
    "    \"Height\": [6.4, 5.6, 5.6, 5.3, 5.0, 5.1, \"\", 5.3, 5.5, 6.2],\n",
    "    \"Skull and Crossbones\": [False, True, True, False, False, True, False, False, False, False]\n",
    "}\n",
    "\n",
    "true_count = sum(pirates[\"Skull and Crossbones\"])\n",
    "\n",
    "print(\"Number of 'Skull and Crossbones' data points that are True:\", true_count)\n"
   ]
  },
  {
   "cell_type": "code",
   "execution_count": 20,
   "metadata": {},
   "outputs": [
    {
     "name": "stdout",
     "output_type": "stream",
     "text": [
      "Average Age for Male Pirates: 43.6\n",
      "Average Age for Female Pirates: 55.4\n",
      "The average age for female pirates is higher.\n"
     ]
    }
   ],
   "source": [
    "pirates = {\n",
    "    \"Pirate\": [\"Blackbeard\", \"Anne Bonny\", \"Calico Jack\", \"Cheung Po Tsai\", \"Grace O'Malley\", \"Mary Read\", \"Sayyida al Hurra\", \"Ching Shih\", \"Sir Francis Drake\", \"Jean Lafitte\"],\n",
    "    \"Sex\": [\"M\", \"F\", \"M\", \"M\", \"F\", \"F\", \"F\", \"F\", \"M\", \"M\"],\n",
    "    \"Age at Death\": [40, 24, 37, 39, 73, 36, 75, 69, 56, 46],\n",
    "    \"Height\": [6.4, 5.6, 5.6, 5.3, 5.0, 5.1, \"\", 5.3, 5.5, 6.2],\n",
    "    \"Skull and Crossbones\": [False, True, True, False, False, True, False, False, False, False]\n",
    "}\n",
    "\n",
    "total_age_males = 0\n",
    "total_age_females = 0\n",
    "count_males = 0\n",
    "count_females = 0\n",
    "\n",
    "for age, sex in zip(pirates[\"Age at Death\"], pirates[\"Sex\"]):\n",
    "    if sex == \"M\":\n",
    "        total_age_males += age\n",
    "        count_males += 1\n",
    "    elif sex == \"F\":\n",
    "        total_age_females += age\n",
    "        count_females += 1\n",
    "\n",
    "average_age_males = total_age_males / count_males\n",
    "average_age_females = total_age_females / count_females\n",
    "\n",
    "print(\"Average Age for Male Pirates:\", average_age_males)\n",
    "print(\"Average Age for Female Pirates:\", average_age_females)\n",
    "\n",
    "if average_age_males > average_age_females:\n",
    "    print(\"The average age for male pirates is higher.\")\n",
    "elif average_age_females > average_age_males:\n",
    "    print(\"The average age for female pirates is higher.\")\n",
    "else:\n",
    "    print(\"The average ages for male and female pirates are equal.\")\n"
   ]
  },
  {
   "cell_type": "code",
   "execution_count": 26,
   "metadata": {},
   "outputs": [
    {
     "name": "stdout",
     "output_type": "stream",
     "text": [
      "The percentage of data points with height 6.0 or higher: 20.00%\n"
     ]
    }
   ],
   "source": [
    "pirates = {\n",
    "    \"Pirate\": [\"Blackbeard\", \"Anne Bonny\", \"Calico Jack\", \"Cheung Po Tsai\", \"Grace O'Malley\", \"Mary Read\", \"Sayyida al Hurra\", \"Ching Shih\", \"Sir Francis Drake\", \"Jean Lafittte\"],\n",
    "    \"Sex\": [\"M\", \"F\", \"M\", \"M\", \"F\", \"F\", \"F\", \"F\", \"M\", \"M\"],\n",
    "    \"Age at Death\": [40, 24, 37, 39, 73, 36, 75, 69, 56, 46],\n",
    "    \"Height\": [6.4, 5.6, 5.6, 5.3, 5.0, 5.1, \"0\", 5.3, 5.5, 6.2],\n",
    "    \"Skull and Crossbones\": [False, True, True, False, False, True, False, False, False, False]\n",
    "}\n",
    "\n",
    "filtered_heights = [float(height) for height in pirates[\"Height\"] if height != \"\"]\n",
    "\n",
    "at_least_six_or_higher = [height for height in filtered_heights if height >= 6.0]\n",
    "percentage = (len(at_least_six_or_higher) / len(filtered_heights)) * 100\n",
    "\n",
    "print(f\"The percentage of data points with height 6.0 or higher: {percentage:.2f}%\")\n"
   ]
  },
  {
   "cell_type": "code",
   "execution_count": null,
   "metadata": {},
   "outputs": [],
   "source": []
  },
  {
   "cell_type": "code",
   "execution_count": null,
   "metadata": {},
   "outputs": [],
   "source": []
  }
 ],
 "metadata": {
  "colab": {
   "provenance": []
  },
  "kernelspec": {
   "display_name": "Python 3 (ipykernel)",
   "language": "python",
   "name": "python3"
  },
  "language_info": {
   "codemirror_mode": {
    "name": "ipython",
    "version": 3
   },
   "file_extension": ".py",
   "mimetype": "text/x-python",
   "name": "python",
   "nbconvert_exporter": "python",
   "pygments_lexer": "ipython3",
   "version": "3.11.4"
  }
 },
 "nbformat": 4,
 "nbformat_minor": 1
}
